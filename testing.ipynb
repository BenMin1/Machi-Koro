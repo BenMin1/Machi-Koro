{
 "cells": [
  {
   "cell_type": "code",
   "execution_count": 1,
   "metadata": {},
   "outputs": [],
   "source": [
    "from _Cards import *\n",
    "from _Players import *\n",
    "from _MachiKoro import *"
   ]
  },
  {
   "cell_type": "code",
   "execution_count": 2,
   "metadata": {},
   "outputs": [],
   "source": [
    "player1 = Player(\"BABY1\", turn_order = 0)\n",
    "player2 = Player(\"BABY2\", turn_order = 1)\n",
    "player3 = Player(\"BABY3\", turn_order = 2)\n",
    "player4 = Player(\"BABY4\", turn_order = 3)\n",
    "\n",
    "game = MachiKoro(players=[player1, player2, player3, player4])"
   ]
  },
  {
   "cell_type": "code",
   "execution_count": 3,
   "metadata": {},
   "outputs": [
    {
     "name": "stdout",
     "output_type": "stream",
     "text": [
      "1\n",
      "2\n",
      "3\n",
      "4\n",
      "5\n",
      "6\n",
      "7\n",
      "8\n",
      "9\n",
      "10\n",
      "11\n",
      "12\n",
      "13\n",
      "14\n",
      "15\n",
      "16\n",
      "17\n",
      "18\n",
      "19\n",
      "20\n",
      "21\n",
      "Stadium\n",
      "Stadium\n",
      "TV Station\n",
      "22\n",
      "Stadium\n",
      "TV Station\n",
      "Business Center\n",
      "23\n",
      "24\n"
     ]
    },
    {
     "ename": "TypeError",
     "evalue": "list indices must be integers or slices, not NoneType",
     "output_type": "error",
     "traceback": [
      "\u001b[1;31m---------------------------------------------------------------------------\u001b[0m",
      "\u001b[1;31mTypeError\u001b[0m                                 Traceback (most recent call last)",
      "\u001b[1;32mc:\\Users\\logic_switch\\Documents\\GitHub\\Machi-Koro\\testing.ipynb Cell 3\u001b[0m in \u001b[0;36m<cell line: 1>\u001b[1;34m()\u001b[0m\n\u001b[1;32m----> <a href='vscode-notebook-cell:/c%3A/Users/logic_switch/Documents/GitHub/Machi-Koro/testing.ipynb#X25sZmlsZQ%3D%3D?line=0'>1</a>\u001b[0m game\u001b[39m.\u001b[39;49mGame()\n",
      "File \u001b[1;32mc:\\Users\\logic_switch\\Documents\\GitHub\\Machi-Koro\\_MachiKoro.py:92\u001b[0m, in \u001b[0;36mMachiKoro.Game\u001b[1;34m(self)\u001b[0m\n\u001b[0;32m     90\u001b[0m \u001b[39mprint\u001b[39m(\u001b[39mself\u001b[39m\u001b[39m.\u001b[39mturn_counter)\n\u001b[0;32m     91\u001b[0m \u001b[39mfor\u001b[39;00m player \u001b[39min\u001b[39;00m \u001b[39mself\u001b[39m\u001b[39m.\u001b[39mplayers:\n\u001b[1;32m---> 92\u001b[0m     anyoneWin \u001b[39m=\u001b[39m \u001b[39mself\u001b[39;49m\u001b[39m.\u001b[39;49mTurn (player)\n\u001b[0;32m     93\u001b[0m     \u001b[39mif\u001b[39;00m anyoneWin \u001b[39m==\u001b[39m \u001b[39mTrue\u001b[39;00m: \u001b[39mbreak\u001b[39;00m\n\u001b[0;32m     94\u001b[0m \u001b[39mself\u001b[39m\u001b[39m.\u001b[39mturn_counter \u001b[39m+\u001b[39m\u001b[39m=\u001b[39m \u001b[39m1\u001b[39m\n",
      "File \u001b[1;32mc:\\Users\\logic_switch\\Documents\\GitHub\\Machi-Koro\\_MachiKoro.py:74\u001b[0m, in \u001b[0;36mMachiKoro.Turn\u001b[1;34m(self, player, doubles)\u001b[0m\n\u001b[0;32m     72\u001b[0m \u001b[39m# The next step is the buying phase where the player can decide to buy a card\u001b[39;00m\n\u001b[0;32m     73\u001b[0m buy_attempt \u001b[39m=\u001b[39m player\u001b[39m.\u001b[39mchoose_buy(\u001b[39mself\u001b[39m\u001b[39m.\u001b[39mDeck)\n\u001b[1;32m---> 74\u001b[0m \u001b[39mif\u001b[39;00m player\u001b[39m.\u001b[39mcoins \u001b[39m>\u001b[39m \u001b[39mself\u001b[39;49m\u001b[39m.\u001b[39;49mDeck\u001b[39m.\u001b[39;49mcard_types[buy_attempt]\u001b[39m.\u001b[39mcost \u001b[39mand\u001b[39;00m \u001b[39mself\u001b[39m\u001b[39m.\u001b[39mDeck\u001b[39m.\u001b[39mcard_amounts[buy_attempt]\u001b[39m>\u001b[39m\u001b[39m0\u001b[39m: \n\u001b[0;32m     75\u001b[0m     player\u001b[39m.\u001b[39mcoins \u001b[39m-\u001b[39m\u001b[39m=\u001b[39m \u001b[39mself\u001b[39m\u001b[39m.\u001b[39mDeck\u001b[39m.\u001b[39mcard_types[buy_attempt]\u001b[39m.\u001b[39mcost\n\u001b[0;32m     76\u001b[0m     player\u001b[39m.\u001b[39mcards[buy_attempt] \u001b[39m+\u001b[39m\u001b[39m=\u001b[39m \u001b[39m1\u001b[39m\n",
      "\u001b[1;31mTypeError\u001b[0m: list indices must be integers or slices, not NoneType"
     ]
    }
   ],
   "source": [
    "game.Game()\n"
   ]
  },
  {
   "cell_type": "code",
   "execution_count": null,
   "metadata": {},
   "outputs": [
    {
     "name": "stdout",
     "output_type": "stream",
     "text": [
      "True\n"
     ]
    }
   ],
   "source": [
    "cards = [0]*19\n",
    "cards[15:] = [1]*4\n",
    "print(sum(cards[15:]) == 4)"
   ]
  }
 ],
 "metadata": {
  "kernelspec": {
   "display_name": "base",
   "language": "python",
   "name": "python3"
  },
  "language_info": {
   "codemirror_mode": {
    "name": "ipython",
    "version": 3
   },
   "file_extension": ".py",
   "mimetype": "text/x-python",
   "name": "python",
   "nbconvert_exporter": "python",
   "pygments_lexer": "ipython3",
   "version": "3.9.13"
  },
  "orig_nbformat": 4
 },
 "nbformat": 4,
 "nbformat_minor": 2
}
