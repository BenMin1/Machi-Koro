{
 "cells": [
  {
   "cell_type": "code",
   "execution_count": 28,
   "metadata": {},
   "outputs": [],
   "source": [
    "from _Cards import *\n",
    "from _Players import *\n",
    "from _MachiKoro import *"
   ]
  },
  {
   "cell_type": "code",
   "execution_count": 29,
   "metadata": {},
   "outputs": [],
   "source": [
    "player1 = Player(\"BABY1\", turn_order = 0)\n",
    "player2 = Player(\"BABY2\", turn_order = 1)\n",
    "player3 = Player(\"BABY3\", turn_order = 2)\n",
    "player4 = Player(\"BABY4\", turn_order = 3)\n",
    "\n",
    "game = MachiKoro(players=[player1, player2, player3, player4])"
   ]
  },
  {
   "cell_type": "code",
   "execution_count": 30,
   "metadata": {},
   "outputs": [
    {
     "name": "stdout",
     "output_type": "stream",
     "text": [
      "BABY2\n",
      "BABY3\n",
      "BABY4\n"
     ]
    }
   ],
   "source": [
    "players=[player1, player2, player3, player4]\n",
    "for player in players:\n",
    "    if player == player1: continue\n",
    "    print(player)"
   ]
  },
  {
   "cell_type": "code",
   "execution_count": 31,
   "metadata": {},
   "outputs": [
    {
     "name": "stdout",
     "output_type": "stream",
     "text": [
      "True\n"
     ]
    }
   ],
   "source": [
    "cards = [0]*19\n",
    "cards[15:] = [1]*4\n",
    "print(sum(cards[15:]) == 4)"
   ]
  },
  {
   "cell_type": "code",
   "execution_count": 32,
   "metadata": {},
   "outputs": [
    {
     "name": "stdout",
     "output_type": "stream",
     "text": [
      "BABY2\n"
     ]
    }
   ],
   "source": [
    "target = player1.TV_Station_Action(players=players)\n",
    "print(target)"
   ]
  },
  {
   "cell_type": "code",
   "execution_count": 33,
   "metadata": {},
   "outputs": [
    {
     "name": "stdout",
     "output_type": "stream",
     "text": [
      "3\n"
     ]
    }
   ],
   "source": [
    "target.coins -= 100\n",
    "print(player1.coins)"
   ]
  },
  {
   "cell_type": "code",
   "execution_count": 34,
   "metadata": {},
   "outputs": [
    {
     "data": {
      "text/plain": [
       "True"
      ]
     },
     "execution_count": 34,
     "metadata": {},
     "output_type": "execute_result"
    }
   ],
   "source": [
    "players[0].name == player1.name"
   ]
  },
  {
   "cell_type": "code",
   "execution_count": 58,
   "metadata": {},
   "outputs": [
    {
     "name": "stdout",
     "output_type": "stream",
     "text": [
      "[3, 1, 2, 1, 1, 3, 2, 1, 2, 1, 2, 2, 1, 0, 0, 1, 1, 1, 1]\n",
      "BABY1 WON!!! Their win percentage is 60.869565217391305\n"
     ]
    }
   ],
   "source": [
    "game.Game()"
   ]
  },
  {
   "cell_type": "code",
   "execution_count": 59,
   "metadata": {},
   "outputs": [
    {
     "name": "stdout",
     "output_type": "stream",
     "text": [
      "[12, 13, 14]\n"
     ]
    }
   ],
   "source": [
    "gibby = list(range(20))\n",
    "print(gibby[12:15])"
   ]
  },
  {
   "cell_type": "code",
   "execution_count": 139,
   "metadata": {},
   "outputs": [
    {
     "name": "stdout",
     "output_type": "stream",
     "text": [
      "0\n",
      "50\n",
      "0\n",
      "0\n"
     ]
    }
   ],
   "source": [
    "game.Stadium_Roll(player1)\n",
    "print(player2.coins)\n",
    "print(player1.coins)\n",
    "print(player3.coins)\n",
    "print(player4.coins)\n"
   ]
  }
 ],
 "metadata": {
  "kernelspec": {
   "display_name": "base",
   "language": "python",
   "name": "python3"
  },
  "language_info": {
   "codemirror_mode": {
    "name": "ipython",
    "version": 3
   },
   "file_extension": ".py",
   "mimetype": "text/x-python",
   "name": "python",
   "nbconvert_exporter": "python",
   "pygments_lexer": "ipython3",
   "version": "3.9.13"
  },
  "orig_nbformat": 4
 },
 "nbformat": 4,
 "nbformat_minor": 2
}
