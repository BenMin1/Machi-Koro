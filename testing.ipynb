{
 "cells": [
  {
   "cell_type": "code",
   "execution_count": 18,
   "metadata": {},
   "outputs": [],
   "source": [
    "from _Cards import *\n",
    "from _Players import *\n",
    "from _MachiKoro import *\n"
   ]
  },
  {
   "cell_type": "code",
   "execution_count": 19,
   "metadata": {},
   "outputs": [],
   "source": [
    "player1 = Player_2_Die_Strat(\"BABY1\")\n",
    "player2 = Player_1_Die_Strat(\"BABY2\")\n",
    "player3 = Player_2_Die_Strat(\"BABY3\")\n",
    "player4 = Player_1_Die_Strat(\"BABY4\")\n",
    "\n",
    "game = MachiKoro(players=[player1, player2, player3, player4])"
   ]
  },
  {
   "cell_type": "code",
   "execution_count": 58,
   "metadata": {},
   "outputs": [
    {
     "name": "stdout",
     "output_type": "stream",
     "text": [
      "[1, 1, 4, 0, 0, 1, 0, 4, 2, 0, 0, 0, 0, 0, 0, 1, 1, 1, 1]\n",
      "BABY3 WON!!! Their win percentage is 30.76923076923077\n"
     ]
    }
   ],
   "source": [
    "game.Game()"
   ]
  }
 ],
 "metadata": {
  "kernelspec": {
   "display_name": "base",
   "language": "python",
   "name": "python3"
  },
  "language_info": {
   "codemirror_mode": {
    "name": "ipython",
    "version": 3
   },
   "file_extension": ".py",
   "mimetype": "text/x-python",
   "name": "python",
   "nbconvert_exporter": "python",
   "pygments_lexer": "ipython3",
   "version": "3.8.3"
  },
  "orig_nbformat": 4
 },
 "nbformat": 4,
 "nbformat_minor": 2
}
