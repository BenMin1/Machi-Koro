{
 "cells": [
  {
   "cell_type": "code",
   "execution_count": 2,
   "metadata": {},
   "outputs": [],
   "source": [
    "from _Cards import *\n",
    "from _Players import *\n",
    "from _MachiKoro import *\n"
   ]
  },
  {
   "cell_type": "code",
   "execution_count": null,
   "metadata": {},
   "outputs": [],
   "source": [
    "player1 = Player_2_Die_Strat(\"BABY1\")\n",
    "player2 = Player_1_Die_Strat(\"BABY2\")\n",
    "player3 = Player_2_Die_Strat(\"BABY3\")\n",
    "player4 = Player_1_Die_Strat(\"BABY4\")\n",
    "AI_PLAYER = NEAT_Player(\"EMPTY_NN\")\n",
    "\n",
    "game = MachiKoro(players=[player1, player2, player3, player4])"
   ]
  },
  {
   "cell_type": "code",
   "execution_count": null,
   "metadata": {},
   "outputs": [
    {
     "name": "stdout",
     "output_type": "stream",
     "text": [
      "[1, 1, 2, 0, 0, 5, 0, 2, 0, 0, 0, 0, 0, 0, 0, 1, 1, 1, 1]\n",
      "BABY1 WON!!! Their win percentage is 100.0\n"
     ]
    }
   ],
   "source": [
    "game.Game(shuffle_players = True)"
   ]
  },
  {
   "cell_type": "code",
   "execution_count": null,
   "metadata": {},
   "outputs": [
    {
     "data": {
      "text/plain": [
       "[BABY2, BABY3, BABY4, BABY1]"
      ]
     },
     "execution_count": 4,
     "metadata": {},
     "output_type": "execute_result"
    }
   ],
   "source": [
    "game.players"
   ]
  },
  {
   "cell_type": "code",
   "execution_count": null,
   "metadata": {},
   "outputs": [
    {
     "name": "stdout",
     "output_type": "stream",
     "text": [
      "[3 3]\n"
     ]
    }
   ],
   "source": [
    "dice_num = 2\n",
    "dice_roll = np.random.randint(1, 7, size = dice_num)\n",
    "print(dice_roll)"
   ]
  },
  {
   "cell_type": "code",
   "execution_count": null,
   "metadata": {},
   "outputs": [],
   "source": [
    "players=[player1, player2, player3, player4]"
   ]
  },
  {
   "cell_type": "code",
   "execution_count": null,
   "metadata": {},
   "outputs": [],
   "source": [
    "turn_order = 0\n",
    "other_players = players[turn_order::-1] + players[:turn_order:-1]"
   ]
  },
  {
   "cell_type": "code",
   "execution_count": null,
   "metadata": {},
   "outputs": [],
   "source": [
    "new_players = other_players[1:]"
   ]
  },
  {
   "cell_type": "code",
   "execution_count": null,
   "metadata": {},
   "outputs": [
    {
     "data": {
      "text/plain": [
       "[4, 1, 0, 0, 0, 1, 3, 0, 0, 0, 0, 0, 0, 0, 0, 1, 0, 0, 0]"
      ]
     },
     "execution_count": 9,
     "metadata": {},
     "output_type": "execute_result"
    }
   ],
   "source": [
    "new_players[0].cards"
   ]
  },
  {
   "cell_type": "code",
   "execution_count": null,
   "metadata": {},
   "outputs": [
    {
     "name": "stdout",
     "output_type": "stream",
     "text": [
      "[1, 1, 1, 1, 2, 0, 0, 5, 0, 2, 0, 0, 0, 0, 0, 0, 0, 1, 1, 1, 1, 5, 4, 1, 0, 0, 0, 1, 3, 0, 0, 0, 0, 0, 0, 0, 0, 1, 0, 0, 0, 0, 1, 2, 4, 0, 0, 3, 0, 3, 1, 0, 0, 0, 0, 0, 0, 1, 1, 1, 0, 4, 4, 2, 0, 0, 0, 1, 3, 0, 0, 0, 4, 0, 1, 0, 0, 1, 0, 0, 0] with the size 81\n"
     ]
    }
   ],
   "source": [
    "state = [1] + [player1.coins] + player1.cards\n",
    "for o_player in new_players:\n",
    "    state.append(o_player.coins)\n",
    "    state += o_player.cards\n",
    "print(f\"{state} with the size {len(state)}\")"
   ]
  },
  {
   "cell_type": "code",
   "execution_count": null,
   "metadata": {},
   "outputs": [
    {
     "name": "stdout",
     "output_type": "stream",
     "text": [
      "[1, 6, 6, 0, 0, 5, 0, 6, 4, 0, 0, 0, 0, 0, 0, 1, 1, 1, 1]\n",
      "EMPTY_NN WON!!! Their win percentage is 100.0\n",
      "[0, 90, 1, 6, 6, 0, 0, 5, 0, 6, 4, 0, 0, 0, 0, 0, 0, 1, 1, 1, 1, 0, 0, 0, 0, 0, 0, 0, 0, 0, 0, 0, 0, 0, 0, 0, 0, 0, 0, 0, 0, 0, 0, 0, 0, 0, 0, 0, 0, 0, 0, 0, 0, 0, 0, 0, 0, 0, 0, 0, 0, 0, 0, 0, 0, 0, 0, 0, 0, 0, 0, 0, 0, 0, 0, 0, 0, 0, 0, 0, 0]\n"
     ]
    }
   ],
   "source": [
    "AI_game = MachiKoro(players=[AI_PLAYER])\n",
    "AI_game.Game()\n",
    "AI_PLAYER.Run_NN()"
   ]
  },
  {
   "cell_type": "code",
   "execution_count": null,
   "metadata": {},
   "outputs": [],
   "source": [
    "def quit():\n",
    "    root.destroy()"
   ]
  },
  {
   "cell_type": "code",
   "execution_count": null,
   "metadata": {},
   "outputs": [],
   "source": []
  },
  {
   "cell_type": "code",
   "execution_count": null,
   "metadata": {},
   "outputs": [
    {
     "name": "stdout",
     "output_type": "stream",
     "text": [
      "players num is  4\n"
     ]
    },
    {
     "name": "stderr",
     "output_type": "stream",
     "text": [
      "Exception in Tkinter callback\n",
      "Traceback (most recent call last):\n",
      "  File \"c:\\Users\\jakem\\anaconda3\\lib\\tkinter\\__init__.py\", line 1883, in __call__\n",
      "    return self.func(*args)\n",
      "  File \"<ipython-input-14-7f51fb6304d1>\", line 30, in playerCount_click\n",
      "    createPlayers(numPlayers)\n",
      "NameError: name 'createPlayers' is not defined\n"
     ]
    }
   ],
   "source": [
    "from tkinter import *\n",
    "\n",
    "#Create Tkinter Window\n",
    "root = Tk()\n",
    "root.title('MACHI KORO GAME')\n",
    "root.geometry(\"900x500\")\n",
    "root.configure(background = \"blue\")\n",
    "\n",
    "my_frame = Frame(root, bg = \"blue\")\n",
    "my_frame.pack(pady=20)\n",
    "\n",
    "quit_button = Button(root,text=\"QUIT\", command = quit)\n",
    "quit_button.pack(side = BOTTOM)\n",
    "\n",
    "play_button = Button(root, text=\"NEW GAME\", command = getPlayers)\n",
    "play_button.pack(side = TOP)\n",
    "\n",
    "root.mainloop()\n",
    "\n",
    "def getPlayers():\n",
    "    play_button.destroy()\n",
    "    \n",
    "    def playerCount_click(event):\n",
    "        numPlayers = (event.widget.cget(\"text\"))\n",
    "        numPlayers = int(numPlayers)\n",
    "        print(\"players num is \", numPlayers)\n",
    "        for button in buttons:\n",
    "            button.destroy()\n",
    "        playercount_label.destroy()\n",
    "        \n",
    "        createPlayers(numPlayers)\n",
    "\n",
    "    playercount_label = Label(root, text = \"How many Players? \")\n",
    "    playercount_label.pack()\n",
    "    buttons = []\n",
    "    for i in range(2,5):\n",
    "        buttons.append(Button(root, text = str(i)))\n",
    "\n",
    "    for button in buttons:\n",
    "        button.pack()\n",
    "        button.bind(\"<Button-1>\", playerCount_click)\n",
    "    "
   ]
  },
  {
   "cell_type": "code",
   "execution_count": null,
   "metadata": {},
   "outputs": [
    {
     "name": "stdout",
     "output_type": "stream",
     "text": [
      "players num is  4\n"
     ]
    },
    {
     "name": "stderr",
     "output_type": "stream",
     "text": [
      "Exception in Tkinter callback\n",
      "Traceback (most recent call last):\n",
      "  File \"c:\\Users\\jakem\\anaconda3\\lib\\tkinter\\__init__.py\", line 1883, in __call__\n",
      "    return self.func(*args)\n",
      "  File \"c:\\Users\\jakem\\Documents\\GitHub\\Machi-Koro\\_GUI.py\", line 19, in playerCount_click\n",
      "    createPlayers(numPlayers)\n",
      "  File \"c:\\Users\\jakem\\Documents\\GitHub\\Machi-Koro\\_GUI.py\", line 62, in createPlayers\n",
      "    player_name = getName()\n",
      "  File \"c:\\Users\\jakem\\Documents\\GitHub\\Machi-Koro\\_GUI.py\", line 41, in getName\n",
      "    j = str(i)\n",
      "UnboundLocalError: local variable 'i' referenced before assignment\n"
     ]
    },
    {
     "name": "stdout",
     "output_type": "stream",
     "text": [
      "None\n"
     ]
    }
   ],
   "source": [
    "from _Cards import *\n",
    "from _Players import *\n",
    "from _MachiKoro import *\n",
    "game1 = MachiKoro(GUI= True)"
   ]
  },
  {
   "cell_type": "code",
   "execution_count": null,
   "metadata": {},
   "outputs": [
    {
     "name": "stdout",
     "output_type": "stream",
     "text": [
      "0\n",
      "1\n",
      "2\n",
      "3\n"
     ]
    }
   ],
   "source": [
    "numPlayers  =4\n",
    "for player in range(numPlayers):print(player)\n"
   ]
  },
  {
   "cell_type": "code",
   "execution_count": null,
   "metadata": {},
   "outputs": [],
   "source": [
    "from _GUI import *\n",
    "attempt = GUI_MachiKoro()"
   ]
  },
  {
   "cell_type": "code",
   "execution_count": 1,
   "metadata": {},
   "outputs": [
    {
     "name": "stdout",
     "output_type": "stream",
     "text": [
      "players num is  4\n"
     ]
    },
    {
     "ename": "",
     "evalue": "",
     "output_type": "error",
     "traceback": [
      "\u001b[1;31mThe Kernel crashed while executing code in the the current cell or a previous cell. Please review the code in the cell(s) to identify a possible cause of the failure. Click <a href='https://aka.ms/vscodeJupyterKernelCrash'>here</a> for more info. View Jupyter <a href='command:jupyter.viewOutput'>log</a> for further details."
     ]
    }
   ],
   "source": [
    "from tkinter import *\n",
    "from _Players import *\n",
    "\n",
    "class Window(Frame):\n",
    "\n",
    "    def __init__(self, master=None):\n",
    "        Frame.__init__(self, master)        \n",
    "        self.master = master\n",
    "\n",
    "        # widget can take all window\n",
    "        self.pack(fill=BOTH, expand=1)\n",
    "\n",
    "        # create button, link it to clickExitButton()\n",
    "        exitButton = Button(self, text=\"Exit\", command=self.clickExitButton)\n",
    "        self.playButton = Button(self, text=\"Play\", command=self.clickPlayButton)\n",
    "\n",
    "        # place button at (0,0)\n",
    "        exitButton.pack(side = BOTTOM)\n",
    "        self.playButton.pack(side = TOP)\n",
    "\n",
    "        self.entries = []\n",
    "        self.buttons = []\n",
    "        self.labels = []\n",
    "    \n",
    "    def clear_buttons(self):\n",
    "        for button in self.buttons: button.destroy()\n",
    "        self.buttons = []\n",
    "    def clear_entries(self):\n",
    "        for entry in self.entries: entry.destroy()\n",
    "        self.entries = []\n",
    "    def clear_labels(self):\n",
    "        for label in self.labels: label.destroy()\n",
    "        self.labels = []\n",
    "\n",
    "    def clickPlayButton(self):\n",
    "        self.playButton.destroy()\n",
    "        playercount_label = Label(root, text = \"How many Players? \")\n",
    "        playercount_label.place(x= 0 , y= 0)\n",
    "        self.labels.append(playercount_label)\n",
    "\n",
    "        for i in range(1,5):\n",
    "            button = Button(self, text=str(i), command=lambda i=i:self.playerCount_click(i))\n",
    "            button.pack()\n",
    "            self.buttons.append(button)\n",
    "\n",
    "    def clickExitButton(self):\n",
    "        self.master.destroy()\n",
    "        exit()\n",
    "\n",
    "    def playerCount_click(self, num_players):\n",
    "        \n",
    "        for i in range(num_players):\n",
    "            label = Label(root, text=f\"Player {i+1}: \")\n",
    "            label.pack()\n",
    "            self.labels.append(label)\n",
    "            entry = Entry(root)\n",
    "            entry.pack()\n",
    "            self.entries.append(entry)\n",
    "        \n",
    "        button = Button(root, text=\"Save Names\", command=self.save_names)\n",
    "        button.pack()\n",
    "        self.buttons.append(button)\n",
    "        print(\"players num is \", num_players)\n",
    "        self.clear_buttons()\n",
    "        # for button in self.buttons: button.destroy()\n",
    "        #createPlayers(numPlayers)\n",
    "    \n",
    "    def save_names(self):\n",
    "        names = [entry.get() for entry in self.entries]\n",
    "        self.clear_buttons()\n",
    "        self.clear_entries()\n",
    "        self.clear_labels()\n",
    "        print(names)\n",
    "\n",
    "root = Tk()\n",
    "app = Window(root)\n",
    "root.wm_title(\"Tkinter button\")\n",
    "root.geometry(\"320x200\")\n",
    "root.mainloop()   \n"
   ]
  },
  {
   "cell_type": "code",
   "execution_count": null,
   "metadata": {},
   "outputs": [],
   "source": [
    "from tkinter import *\n",
    "from _Players import *\n",
    "\n",
    "class Window(Frame):\n",
    "\n",
    "    def __init__(self, master=None):\n",
    "        Frame.__init__(self, master)        \n",
    "        self.master = master\n",
    "\n",
    "        # widget can take all window\n",
    "        self.pack(fill=BOTH, expand=1)\n",
    "\n",
    "        # create button, link it to clickExitButton()\n",
    "        exitButton = Button(self, text=\"Exit\", command=self.clickExitButton)\n",
    "        playButton = Button(self, text=\"Play\", command=self.clickPlayButton)\n",
    "\n",
    "        # place button at (0,0)\n",
    "        exitButton.place(x=0, y=0)\n",
    "    \n",
    "    def clickPlayButton(self, button):\n",
    "        text = Label(self, text=\"Just do it\")\n",
    "        text.place(x=70,y=90)\n",
    "        \n",
    "\n",
    "    def clickExitButton(self):\n",
    "        self.master.destroy()\n",
    "        exit()\n",
    "\n",
    "root = Tk()\n",
    "app = Window(root)\n",
    "root.wm_title(\"Tkinter button\")\n",
    "root.geometry(\"320x200\")\n",
    "root.mainloop()   \n",
    "\n",
    "    def __init__(self, name = \"CARD\", color = 'blue', icon = 'stalk', cost = 1, effect = 1, activation = [1]):\n",
    "        self.root = Tk()\n",
    "        self.root.title('MACHI KORO GAME')\n",
    "        self.root.geometry(\"900x500\")\n",
    "        self.root.configure(background = \"blue\")\n",
    "\n",
    "        my_frame = Frame(self.root, bg = \"blue\")\n",
    "        my_frame.pack(pady=20)\n",
    "        def quit():\n",
    "            self.root.destroy()\n",
    "        quit_button = Button(self.root,text=\"QUIT\", command = quit)\n",
    "        quit_button.pack(side = BOTTOM)\n",
    "\n",
    "        play_button = Button(self.root, text=\"NEW GAME\", command = quit)\n",
    "        play_button.pack(side = TOP)\n",
    "        self.root.mainloop()\n",
    "\n",
    "        \n",
    "    def getPlayers(self):\n",
    "        play_button.destroy()\n",
    "        \n",
    "        def playerCount_click(event):\n",
    "            numPlayers = (event.widget.cget(\"text\"))\n",
    "            numPlayers = int(numPlayers)\n",
    "            print(\"players num is \", numPlayers)\n",
    "            for button in buttons:\n",
    "                button.destroy()\n",
    "            playercount_label.destroy()\n",
    "            \n",
    "            createPlayers(numPlayers)\n",
    "\n",
    "        playercount_label = Label(root, text = \"How many Players? \")\n",
    "        playercount_label.pack()\n",
    "        buttons = []\n",
    "        for i in range(2,5):\n",
    "            buttons.append(Button(root, text = str(i)))\n",
    "\n",
    "        for button in buttons:\n",
    "            button.pack()\n",
    "            button.bind(\"<Button-1>\", playerCount_click)  \n",
    "\n",
    "    def getName(i):\n",
    "        e = Entry(root, width = 50)\n",
    "        e.pack()\n",
    "        def named():\n",
    "            global player_name\n",
    "            player_name = e.get()\n",
    "            button_name.destroy()\n",
    "            e.destroy()\n",
    "            player_frames[i].config(text = name)  \n",
    "\n",
    "        j = str(i)\n",
    "        i = int(i)\n",
    "        button_name = Button(root, text=\"Enter Player \" + j + \"'s name\", command = named)\n",
    "        button_name.pack()  \n",
    "\n",
    "    def createPlayers(numPlayers):\n",
    "        info_frame = LabelFrame(my_frame, text=\"Game Info\", bd =0)\n",
    "        info_frame.grid(row=0,column=50,padx=20,ipadx=20)\n",
    "        labelturn = Label(info_frame, text = \"GAME SET-UP\")\n",
    "        labelturn.pack(side = RIGHT)\n",
    "        labeldie = Label(info_frame, text = \"\")\n",
    "        labeldie.pack(side = RIGHT, pady = 20, padx = 20)\n",
    "        \n",
    "        var = []\n",
    "        players = []\n",
    "        player_frames = []\n",
    "        player_labels = []\n",
    "        name = StringVar()\n",
    "        for i in range(numPlayers):\n",
    "            var.append ( StringVar())\n",
    "            var[i].set(\"coins = 3 cards = [1, 0, 0, 0, 0, 1, 0, 0, 0, 0, 0, 0, 0, 0, 0, 0, 0, 0, 1]\")\n",
    "            player_frames.append (LabelFrame(my_frame, text=\"player1\", bd =0))\n",
    "            player_frames[i].grid(row=2*i,column=0,padx=20,ipadx=20)\n",
    "            player_labels.append (Label(player_frames[i], textvariable=var[i]))\n",
    "            player_labels[i].pack(pady=20)      \n",
    "            player_frames[i].config(text = name)  \n"
   ]
  }
 ],
 "metadata": {
  "kernelspec": {
   "display_name": "base",
   "language": "python",
   "name": "python3"
  },
  "language_info": {
   "codemirror_mode": {
    "name": "ipython",
    "version": 3
   },
   "file_extension": ".py",
   "mimetype": "text/x-python",
   "name": "python",
   "nbconvert_exporter": "python",
   "pygments_lexer": "ipython3",
   "version": "3.9.13"
  },
  "orig_nbformat": 4
 },
 "nbformat": 4,
 "nbformat_minor": 2
}
