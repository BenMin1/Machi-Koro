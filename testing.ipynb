{
 "cells": [
  {
   "cell_type": "code",
   "execution_count": 1,
   "metadata": {},
   "outputs": [],
   "source": [
    "from _Cards import *\n",
    "from _Players import *\n",
    "from _MachiKoro import *\n"
   ]
  },
  {
   "cell_type": "code",
   "execution_count": 2,
   "metadata": {},
   "outputs": [],
   "source": [
    "player1 = Player_2_Die_Strat(\"BABY1\")\n",
    "player2 = Player_1_Die_Strat(\"BABY2\")\n",
    "player3 = Player_2_Die_Strat(\"BABY3\")\n",
    "player4 = Player_1_Die_Strat(\"BABY4\")\n",
    "AI_PLAYER = NEAT_Player(\"EMPTY_NN\")\n",
    "\n",
    "game = MachiKoro(players=[player1, player2, player3, player4])"
   ]
  },
  {
   "cell_type": "code",
   "execution_count": 3,
   "metadata": {},
   "outputs": [
    {
     "name": "stdout",
     "output_type": "stream",
     "text": [
      "[1, 1, 2, 0, 0, 5, 0, 2, 0, 0, 0, 0, 0, 0, 0, 1, 1, 1, 1]\n",
      "BABY1 WON!!! Their win percentage is 100.0\n"
     ]
    }
   ],
   "source": [
    "game.Game(shuffle_players = True)"
   ]
  },
  {
   "cell_type": "code",
   "execution_count": 4,
   "metadata": {},
   "outputs": [
    {
     "data": {
      "text/plain": [
       "[BABY2, BABY3, BABY4, BABY1]"
      ]
     },
     "execution_count": 4,
     "metadata": {},
     "output_type": "execute_result"
    }
   ],
   "source": [
    "game.players"
   ]
  },
  {
   "cell_type": "code",
   "execution_count": 5,
   "metadata": {},
   "outputs": [
    {
     "name": "stdout",
     "output_type": "stream",
     "text": [
      "[3 3]\n"
     ]
    }
   ],
   "source": [
    "dice_num = 2\n",
    "dice_roll = np.random.randint(1, 7, size = dice_num)\n",
    "print(dice_roll)"
   ]
  },
  {
   "cell_type": "code",
   "execution_count": 6,
   "metadata": {},
   "outputs": [],
   "source": [
    "players=[player1, player2, player3, player4]"
   ]
  },
  {
   "cell_type": "code",
   "execution_count": 7,
   "metadata": {},
   "outputs": [],
   "source": [
    "turn_order = 0\n",
    "other_players = players[turn_order::-1] + players[:turn_order:-1]"
   ]
  },
  {
   "cell_type": "code",
   "execution_count": 8,
   "metadata": {},
   "outputs": [],
   "source": [
    "new_players = other_players[1:]"
   ]
  },
  {
   "cell_type": "code",
   "execution_count": 9,
   "metadata": {},
   "outputs": [
    {
     "data": {
      "text/plain": [
       "[4, 1, 0, 0, 0, 1, 3, 0, 0, 0, 0, 0, 0, 0, 0, 1, 0, 0, 0]"
      ]
     },
     "execution_count": 9,
     "metadata": {},
     "output_type": "execute_result"
    }
   ],
   "source": [
    "new_players[0].cards"
   ]
  },
  {
   "cell_type": "code",
   "execution_count": 10,
   "metadata": {},
   "outputs": [
    {
     "name": "stdout",
     "output_type": "stream",
     "text": [
      "[1, 1, 1, 1, 2, 0, 0, 5, 0, 2, 0, 0, 0, 0, 0, 0, 0, 1, 1, 1, 1, 5, 4, 1, 0, 0, 0, 1, 3, 0, 0, 0, 0, 0, 0, 0, 0, 1, 0, 0, 0, 0, 1, 2, 4, 0, 0, 3, 0, 3, 1, 0, 0, 0, 0, 0, 0, 1, 1, 1, 0, 4, 4, 2, 0, 0, 0, 1, 3, 0, 0, 0, 4, 0, 1, 0, 0, 1, 0, 0, 0] with the size 81\n"
     ]
    }
   ],
   "source": [
    "state = [1] + [player1.coins] + player1.cards\n",
    "for o_player in new_players:\n",
    "    state.append(o_player.coins)\n",
    "    state += o_player.cards\n",
    "print(f\"{state} with the size {len(state)}\")"
   ]
  },
  {
   "cell_type": "code",
   "execution_count": 11,
   "metadata": {},
   "outputs": [
    {
     "name": "stdout",
     "output_type": "stream",
     "text": [
      "[1, 6, 6, 0, 0, 5, 0, 6, 4, 0, 0, 0, 0, 0, 0, 1, 1, 1, 1]\n",
      "EMPTY_NN WON!!! Their win percentage is 100.0\n",
      "[0, 90, 1, 6, 6, 0, 0, 5, 0, 6, 4, 0, 0, 0, 0, 0, 0, 1, 1, 1, 1, 0, 0, 0, 0, 0, 0, 0, 0, 0, 0, 0, 0, 0, 0, 0, 0, 0, 0, 0, 0, 0, 0, 0, 0, 0, 0, 0, 0, 0, 0, 0, 0, 0, 0, 0, 0, 0, 0, 0, 0, 0, 0, 0, 0, 0, 0, 0, 0, 0, 0, 0, 0, 0, 0, 0, 0, 0, 0, 0, 0]\n"
     ]
    }
   ],
   "source": [
    "AI_game = MachiKoro(players=[AI_PLAYER])\n",
    "AI_game.Game()\n",
    "AI_PLAYER.Run_NN()"
   ]
  },
  {
   "cell_type": "code",
   "execution_count": 1,
   "metadata": {},
   "outputs": [],
   "source": [
    "def quit():\n",
    "    root.destroy()"
   ]
  },
  {
   "cell_type": "code",
   "execution_count": 13,
   "metadata": {},
   "outputs": [],
   "source": []
  },
  {
   "cell_type": "code",
   "execution_count": 15,
   "metadata": {},
   "outputs": [
    {
     "name": "stdout",
     "output_type": "stream",
     "text": [
      "players num is  4\n"
     ]
    },
    {
     "name": "stderr",
     "output_type": "stream",
     "text": [
      "Exception in Tkinter callback\n",
      "Traceback (most recent call last):\n",
      "  File \"c:\\Users\\jakem\\anaconda3\\lib\\tkinter\\__init__.py\", line 1883, in __call__\n",
      "    return self.func(*args)\n",
      "  File \"<ipython-input-14-7f51fb6304d1>\", line 30, in playerCount_click\n",
      "    createPlayers(numPlayers)\n",
      "NameError: name 'createPlayers' is not defined\n"
     ]
    }
   ],
   "source": [
    "from tkinter import *\n",
    "\n",
    "#Create Tkinter Window\n",
    "root = Tk()\n",
    "root.title('MACHI KORO GAME')\n",
    "root.geometry(\"900x500\")\n",
    "root.configure(background = \"blue\")\n",
    "\n",
    "my_frame = Frame(root, bg = \"blue\")\n",
    "my_frame.pack(pady=20)\n",
    "\n",
    "quit_button = Button(root,text=\"QUIT\", command = quit)\n",
    "quit_button.pack(side = BOTTOM)\n",
    "\n",
    "play_button = Button(root, text=\"NEW GAME\", command = getPlayers)\n",
    "play_button.pack(side = TOP)\n",
    "\n",
    "root.mainloop()\n",
    "\n",
    "def getPlayers():\n",
    "    play_button.destroy()\n",
    "    \n",
    "    def playerCount_click(event):\n",
    "        numPlayers = (event.widget.cget(\"text\"))\n",
    "        numPlayers = int(numPlayers)\n",
    "        print(\"players num is \", numPlayers)\n",
    "        for button in buttons:\n",
    "            button.destroy()\n",
    "        playercount_label.destroy()\n",
    "        \n",
    "        createPlayers(numPlayers)\n",
    "\n",
    "    playercount_label = Label(root, text = \"How many Players? \")\n",
    "    playercount_label.pack()\n",
    "    buttons = []\n",
    "    for i in range(2,5):\n",
    "        buttons.append(Button(root, text = str(i)))\n",
    "\n",
    "    for button in buttons:\n",
    "        button.pack()\n",
    "        button.bind(\"<Button-1>\", playerCount_click)\n",
    "    "
   ]
  },
  {
   "cell_type": "code",
   "execution_count": 1,
   "metadata": {},
   "outputs": [
    {
     "name": "stdout",
     "output_type": "stream",
     "text": [
      "players num is  4\n"
     ]
    },
    {
     "name": "stderr",
     "output_type": "stream",
     "text": [
      "Exception in Tkinter callback\n",
      "Traceback (most recent call last):\n",
      "  File \"c:\\Users\\jakem\\anaconda3\\lib\\tkinter\\__init__.py\", line 1883, in __call__\n",
      "    return self.func(*args)\n",
      "  File \"c:\\Users\\jakem\\Documents\\GitHub\\Machi-Koro\\_GUI.py\", line 19, in playerCount_click\n",
      "    createPlayers(numPlayers)\n",
      "  File \"c:\\Users\\jakem\\Documents\\GitHub\\Machi-Koro\\_GUI.py\", line 62, in createPlayers\n",
      "    player_name = getName()\n",
      "  File \"c:\\Users\\jakem\\Documents\\GitHub\\Machi-Koro\\_GUI.py\", line 41, in getName\n",
      "    j = str(i)\n",
      "UnboundLocalError: local variable 'i' referenced before assignment\n"
     ]
    },
    {
     "name": "stdout",
     "output_type": "stream",
     "text": [
      "None\n"
     ]
    }
   ],
   "source": [
    "from _Cards import *\n",
    "from _Players import *\n",
    "from _MachiKoro import *\n",
    "game1 = MachiKoro(GUI= True)"
   ]
  },
  {
   "cell_type": "code",
   "execution_count": 4,
   "metadata": {},
   "outputs": [
    {
     "name": "stdout",
     "output_type": "stream",
     "text": [
      "0\n",
      "1\n",
      "2\n",
      "3\n"
     ]
    }
   ],
   "source": [
    "numPlayers  =4\n",
    "for player in range(numPlayers):print(player)\n"
   ]
  }
 ],
 "metadata": {
  "kernelspec": {
   "display_name": "base",
   "language": "python",
   "name": "python3"
  },
  "language_info": {
   "codemirror_mode": {
    "name": "ipython",
    "version": 3
   },
   "file_extension": ".py",
   "mimetype": "text/x-python",
   "name": "python",
   "nbconvert_exporter": "python",
   "pygments_lexer": "ipython3",
   "version": "3.8.3"
  },
  "orig_nbformat": 4
 },
 "nbformat": 4,
 "nbformat_minor": 2
}
