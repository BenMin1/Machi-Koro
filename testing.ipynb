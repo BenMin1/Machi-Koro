{
 "cells": [
  {
   "cell_type": "code",
   "execution_count": 28,
   "metadata": {},
   "outputs": [],
   "source": [
    "from _Cards import *\n",
    "from _Players import *\n",
    "from _MachiKoro import *"
   ]
  },
  {
   "cell_type": "code",
   "execution_count": 29,
   "metadata": {},
   "outputs": [],
   "source": [
    "player1 = Player(\"BABY1\", turn_order = 0)\n",
    "player2 = Player(\"BABY2\", turn_order = 1)\n",
    "player3 = Player(\"BABY3\", turn_order = 2)\n",
    "player4 = Player(\"BABY4\", turn_order = 3)\n",
    "\n",
    "game = MachiKoro(players=[player1, player2, player3, player4])"
   ]
  },
  {
   "cell_type": "code",
   "execution_count": 58,
   "metadata": {},
   "outputs": [
    {
     "name": "stdout",
     "output_type": "stream",
     "text": [
      "[3, 1, 2, 1, 1, 3, 2, 1, 2, 1, 2, 2, 1, 0, 0, 1, 1, 1, 1]\n",
      "BABY1 WON!!! Their win percentage is 60.869565217391305\n"
     ]
    }
   ],
   "source": [
    "game.Game()"
   ]
  }
 ],
 "metadata": {
  "kernelspec": {
   "display_name": "base",
   "language": "python",
   "name": "python3"
  },
  "language_info": {
   "codemirror_mode": {
    "name": "ipython",
    "version": 3
   },
   "file_extension": ".py",
   "mimetype": "text/x-python",
   "name": "python",
   "nbconvert_exporter": "python",
   "pygments_lexer": "ipython3",
   "version": "3.9.13"
  },
  "orig_nbformat": 4
 },
 "nbformat": 4,
 "nbformat_minor": 2
}
